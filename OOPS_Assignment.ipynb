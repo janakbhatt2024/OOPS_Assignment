{
  "nbformat": 4,
  "nbformat_minor": 0,
  "metadata": {
    "colab": {
      "provenance": []
    },
    "kernelspec": {
      "name": "python3",
      "display_name": "Python 3"
    },
    "language_info": {
      "name": "python"
    }
  },
  "cells": [
    {
      "cell_type": "markdown",
      "source": [
        "Q1 What are the five key concepts of Object-Oriented Programming (OOP)?\n",
        "\n",
        "Answer:The five key concepts of Object-Oriented Programming (OOP) are:\n",
        "\n",
        "1. Encapsulation: Bundling data and methods into a class and restricting direct access to protect data integrity.\n",
        "\n",
        "2. Abstraction: Hiding complex implementation details while exposing only necessary features to simplify interaction.\n",
        "\n",
        "3. Inheritance: Allowing one class to inherit properties and behaviors from another, promoting code reuse.\n",
        "\n",
        "4. Polymorphism: Enabling different objects to use the same method in different ways, enhancing flexibility.\n",
        "\n",
        "5. Composition: Building complex objects by combining simpler objects, promoting flexibility and modularity.\n",
        "\n",
        "These concepts help organize and manage complex systems by promoting reusable, maintainable, and flexible code.\n"
      ],
      "metadata": {
        "id": "-xrzwNmsoyn9"
      }
    },
    {
      "cell_type": "markdown",
      "source": [
        "Q2 Write a Python class for a `Car` with attributes for `make`, `model`, and `year`. Include a method to display the car's information.\n",
        "\n",
        "Answer:"
      ],
      "metadata": {
        "id": "XunNa-IzpWET"
      }
    },
    {
      "cell_type": "code",
      "source": [
        "class Car:\n",
        "    def __init__(self, make, model, year):\n",
        "        # Initializing the attributes of the car\n",
        "        self.make = make\n",
        "        self.model = model\n",
        "        self.year = year\n",
        "\n",
        "    def display_info(self):\n",
        "        # Method to display car's information\n",
        "        print(f\"Car Information: {self.make},{self.model},{self.year} \")\n",
        "\n",
        "# Example usage:\n",
        "my_car = Car(\"Toyota\", \"Corolla\", 2020)\n",
        "my_car.display_info()\n"
      ],
      "metadata": {
        "colab": {
          "base_uri": "https://localhost:8080/"
        },
        "id": "uS2tb1xjrQte",
        "outputId": "6e788230-6565-40c6-bc45-a8f6754b88d3"
      },
      "execution_count": null,
      "outputs": [
        {
          "output_type": "stream",
          "name": "stdout",
          "text": [
            "Car Information: Toyota,Corolla,2020 \n"
          ]
        }
      ]
    },
    {
      "cell_type": "markdown",
      "source": [
        "Q3  Explain the difference between instance methods and class methods. Provide an example of each\n",
        "\n",
        "Answer:\n",
        "\n",
        "Instance methods are for object-specific operations, requiring an instance of the class.\n",
        "\n",
        "Class methods are for class-specific operations, operating on class-level attributes, and can be called directly on the class itself."
      ],
      "metadata": {
        "id": "YYWcbRn0r33B"
      }
    },
    {
      "cell_type": "code",
      "source": [
        "# Example-1 Instance Method\n",
        "class Car:\n",
        "    def __init__(self, make, model, year):\n",
        "        self.make = make\n",
        "        self.model = model\n",
        "        self.year = year\n",
        "\n",
        "    def display_info(self):\n",
        "        # Instance method that operates on an individual object\n",
        "        print(f\"Car: {self.year} {self.make} {self.model}\")\n",
        "\n",
        "# Creating an instance of the Car class\n",
        "my_car = Car(\"Toyota\", \"Corolla\", 2020)\n",
        "my_car.display_info()  # Calling the instance method\n"
      ],
      "metadata": {
        "colab": {
          "base_uri": "https://localhost:8080/"
        },
        "id": "h9HZrt2wsEi2",
        "outputId": "bca72c21-2a5e-4206-bae9-e0058238a461"
      },
      "execution_count": null,
      "outputs": [
        {
          "output_type": "stream",
          "name": "stdout",
          "text": [
            "Car: 2020 Toyota Corolla\n"
          ]
        }
      ]
    },
    {
      "cell_type": "code",
      "source": [
        "# Example-2 Class Method\n",
        "class Car:\n",
        "    num_of_wheels = 4  # A class attribute\n",
        "\n",
        "    def __init__(self, make, model, year):\n",
        "        self.make = make\n",
        "        self.model = model\n",
        "        self.year = year\n",
        "\n",
        "    @classmethod\n",
        "    def display_wheels(cls):\n",
        "        # Class method that operates on the class itself\n",
        "        print(f\"All cars have {cls.num_of_wheels} wheels.\")\n",
        "\n",
        "# Calling the class method without creating an instance\n",
        "Car.display_wheels()\n"
      ],
      "metadata": {
        "colab": {
          "base_uri": "https://localhost:8080/"
        },
        "id": "qHI5GgmjsOU-",
        "outputId": "2da622d8-3aa7-4694-a705-735225654643"
      },
      "execution_count": null,
      "outputs": [
        {
          "output_type": "stream",
          "name": "stdout",
          "text": [
            "All cars have 4 wheels.\n"
          ]
        }
      ]
    },
    {
      "cell_type": "markdown",
      "source": [
        "Q4 How does Python implement method overloading? Give an example.\n",
        "\n",
        "Answer:\n"
      ],
      "metadata": {
        "id": "gOQ5T2epsy5p"
      }
    },
    {
      "cell_type": "code",
      "source": [
        "class Calculator:\n",
        "    def add(self, *args):\n",
        "        return sum(args)\n",
        "\n",
        "calc = Calculator()\n",
        "print(calc.add(1, 2))         # Output: 3 (2 arguments)\n",
        "print(calc.add(1, 2, 3, 4))   # Output: 10 (4 arguments)\n"
      ],
      "metadata": {
        "colab": {
          "base_uri": "https://localhost:8080/"
        },
        "id": "Sm8LzaOENmtm",
        "outputId": "b34cd8d1-f62d-4140-e03f-79947b0b57cf"
      },
      "execution_count": 1,
      "outputs": [
        {
          "output_type": "stream",
          "name": "stdout",
          "text": [
            "3\n",
            "10\n"
          ]
        }
      ]
    },
    {
      "cell_type": "markdown",
      "source": [
        "Q5 What are the three types of access modifiers in Python? How are they denoted?\n",
        "\n",
        "Answer:\n",
        "1. **Public**:\n",
        "\n",
        "Definition: Public members (attributes and methods) can be accessed from anywhere, both inside and outside the class. This is the default access level for attributes and methods.\n",
        "\n",
        "Denotation: Public members do not have any leading underscores.\n",
        "\n",
        "2. **Protected:**\n",
        "\n",
        "Definition: Protected members are intended to be used only within the class and its subclasses. These members are not intended for direct access from outside the class, though they can still be accessed if needed.\n",
        "\n",
        "Denotation: Protected members are denoted by a single leading underscore (_).\n",
        "\n",
        "3. **Private:**\n",
        "\n",
        "Definition: Private members are intended to be used only within the class itself. These members are not directly accessible from outside the class.\n",
        "\n",
        "Denotation: Private members are denoted by two leading underscores (__).\n"
      ],
      "metadata": {
        "id": "3EvCK3daNNsj"
      }
    },
    {
      "cell_type": "markdown",
      "source": [
        "Q6 Describe the five types of inheritance in Python. Provide a simple example of multiple inheritance.\n",
        "\n",
        "Answer:\n",
        "\n",
        "![image.png](data:image/png;base64,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)"
      ],
      "metadata": {
        "id": "1DQRZY2_O3Gx"
      }
    },
    {
      "cell_type": "code",
      "source": [
        "# Example Multiple Inheritance\n",
        "class ParentClass1:\n",
        "  def method1(self):\n",
        "    print(\"method1 of parent class 1\")\n",
        "class ParentClass2:\n",
        "  def method2(self):\n",
        "    print(\"method2 of parent class 2\")\n",
        "\n",
        "class ChildClass(ParentClass1,ParentClass2):\n",
        "  def method(self):\n",
        "    print(\"method of child class\")\n",
        "c1 = ChildClass()\n",
        "c1.method()\n",
        "c1.method1()\n",
        "c1.method2()"
      ],
      "metadata": {
        "colab": {
          "base_uri": "https://localhost:8080/"
        },
        "id": "lQj-LGL5PQZa",
        "outputId": "8455cf9a-4e33-486e-afdd-a7115dc0cbe2"
      },
      "execution_count": 2,
      "outputs": [
        {
          "output_type": "stream",
          "name": "stdout",
          "text": [
            "method of child class\n",
            "method1 of parent class 1\n",
            "method2 of parent class 2\n"
          ]
        }
      ]
    },
    {
      "cell_type": "markdown",
      "source": [
        "Q7 What is the Method Resolution Order (MRO) in Python? How can you retrieve it programmatically?\n",
        "\n",
        "Answer:\n",
        "\n",
        "The Method Resolution Order (MRO) in Python determines the order in which classes are searched when a method or attribute is accessed. It is crucial when dealing with multiple inheritance. You can retrieve the MRO programmatically using the mro() method or by accessing the __mro__ attribute. Python's MRO follows the C3 Linearization algorithm, which ensures a consistent and unambiguous search order, even in the case of complex inheritance hierarchies."
      ],
      "metadata": {
        "id": "qX85440NPmEo"
      }
    },
    {
      "cell_type": "code",
      "source": [
        "# Example\n",
        "class A:\n",
        "    def method(self):\n",
        "        print(\"Method in class A\")\n",
        "\n",
        "class B(A):\n",
        "    def method(self):\n",
        "        print(\"Method in class B\")\n",
        "\n",
        "class C(A):\n",
        "    def method(self):\n",
        "        print(\"Method in class C\")\n",
        "\n",
        "class D(B, C):\n",
        "    pass\n",
        "\n",
        "d = D()\n",
        "d.method()  # This will call method() from class B, because B is listed before C in the MRO of D\n"
      ],
      "metadata": {
        "colab": {
          "base_uri": "https://localhost:8080/"
        },
        "id": "W9kCB2rUQGy3",
        "outputId": "c65ba97c-9d05-4d98-aeab-52b1c5755380"
      },
      "execution_count": 3,
      "outputs": [
        {
          "output_type": "stream",
          "name": "stdout",
          "text": [
            "Method in class B\n"
          ]
        }
      ]
    },
    {
      "cell_type": "markdown",
      "source": [
        "Q8 Create an abstract base class `Shape` with an abstract method `area()`. Then create two subclasses `Circle` and `Rectangle` that implement the `area()` method.\n",
        "\n",
        "Answer:\n"
      ],
      "metadata": {
        "id": "OxOjiQTfQVJf"
      }
    },
    {
      "cell_type": "code",
      "source": [
        "from abc import ABC, abstractmethod\n",
        "import math\n",
        "\n",
        "# Abstract base class\n",
        "class Shape(ABC):\n",
        "    @abstractmethod\n",
        "    def area(self):\n",
        "        pass\n",
        "\n",
        "# Subclass Circle\n",
        "class Circle(Shape):\n",
        "    def __init__(self, radius):\n",
        "        self.radius = radius\n",
        "\n",
        "    def area(self):\n",
        "        return math.pi * self.radius ** 2\n",
        "\n",
        "# Subclass Rectangle\n",
        "class Rectangle(Shape):\n",
        "    def __init__(self, width, height):\n",
        "        self.width = width\n",
        "        self.height = height\n",
        "\n",
        "    def area(self):\n",
        "        return self.width * self.height\n",
        "\n",
        "# Example usage\n",
        "circle = Circle(5)\n",
        "rectangle = Rectangle(4, 6)\n",
        "\n",
        "print(f\"Area of Circle: {circle.area():.2f}\")\n",
        "print(f\"Area of Rectangle: {rectangle.area()}\")\n"
      ],
      "metadata": {
        "colab": {
          "base_uri": "https://localhost:8080/"
        },
        "id": "5RWqHPWnQkO3",
        "outputId": "5e997966-d1ce-46a4-f083-6abc3a9a4c06"
      },
      "execution_count": 4,
      "outputs": [
        {
          "output_type": "stream",
          "name": "stdout",
          "text": [
            "Area of Circle: 78.54\n",
            "Area of Rectangle: 24\n"
          ]
        }
      ]
    },
    {
      "cell_type": "markdown",
      "source": [
        "Q9  Demonstrate polymorphism by creating a function that can work with different shape objects to calculate and print their areas."
      ],
      "metadata": {
        "id": "l67aFR2zQvoH"
      }
    },
    {
      "cell_type": "code",
      "source": [
        "from abc import ABC, abstractmethod\n",
        "import math\n",
        "\n",
        "# Abstract base class\n",
        "class Shape(ABC):\n",
        "    @abstractmethod\n",
        "    def area(self):\n",
        "        pass\n",
        "\n",
        "# Subclass Circle\n",
        "class Circle(Shape):\n",
        "    def __init__(self, radius):\n",
        "        self.radius = radius\n",
        "\n",
        "    def area(self):\n",
        "        return math.pi * self.radius ** 2\n",
        "\n",
        "# Subclass Rectangle\n",
        "class Rectangle(Shape):\n",
        "    def __init__(self, width, height):\n",
        "        self.width = width\n",
        "        self.height = height\n",
        "\n",
        "    def area(self):\n",
        "        return self.width * self.height\n",
        "\n",
        "# Function to calculate and print the area (demonstrating polymorphism)\n",
        "def print_area(shape: Shape):\n",
        "    print(f\"Area: {shape.area()}\")\n",
        "\n",
        "# Example usage\n",
        "circle = Circle(5)\n",
        "rectangle = Rectangle(4, 6)\n",
        "\n",
        "print_area(circle)      # Polymorphic call for Circle object\n",
        "print_area(rectangle)   # Polymorphic call for Rectangle object\n"
      ],
      "metadata": {
        "colab": {
          "base_uri": "https://localhost:8080/"
        },
        "id": "73I6ar_1Q7-2",
        "outputId": "29759aee-c9a4-4040-ad95-81eb63022f87"
      },
      "execution_count": 7,
      "outputs": [
        {
          "output_type": "stream",
          "name": "stdout",
          "text": [
            "Area: 78.53981633974483\n",
            "Area: 24\n"
          ]
        }
      ]
    },
    {
      "cell_type": "markdown",
      "source": [
        "Q10  Implement encapsulation in a `BankAccount` class with private attributes for `balance` and `account_number`. Include methods for deposit, withdrawal, and balance inquiry.\n",
        "\n",
        "Answer:\n",
        "\n"
      ],
      "metadata": {
        "id": "l15BrZZ9b707"
      }
    },
    {
      "cell_type": "code",
      "source": [
        "class BankAccount:\n",
        "    def __init__(self, account_number, initial_balance=0.0):\n",
        "        self.__account_number = account_number  # Private attribute\n",
        "        self.__balance = initial_balance  # Private attribute\n",
        "\n",
        "    # Deposit method to add money to the balance\n",
        "    def deposit(self, amount):\n",
        "        if amount > 0:\n",
        "            self.__balance += amount\n",
        "            print(f\"Deposited ${amount:.2f}. New balance is ${self.__balance:.2f}\")\n",
        "        else:\n",
        "            print(\"Deposit amount must be positive.\")\n",
        "\n",
        "    # Withdrawal method to subtract money from the balance\n",
        "    def withdraw(self, amount):\n",
        "        if amount > 0 and amount <= self.__balance:\n",
        "            self.__balance -= amount\n",
        "            print(f\"Withdrew ${amount:.2f}. New balance is ${self.__balance:.2f}\")\n",
        "        else:\n",
        "            print(\"Invalid withdrawal amount or insufficient balance.\")\n",
        "\n",
        "    # Method to inquire the current balance\n",
        "    def get_balance(self):\n",
        "        return f\"Current balance: ${self.__balance:.2f}\"\n",
        "\n",
        "    # Getter for account_number (to access the account number)\n",
        "    def get_account_number(self):\n",
        "        return self.__account_number\n",
        "\n",
        "# Example usage of BankAccount class\n",
        "account = BankAccount(\"123456789\", 1000.0)\n",
        "\n",
        "# Perform some operations\n",
        "print(account.get_balance())  # Check initial balance\n",
        "account.deposit(500)          # Deposit money\n",
        "account.withdraw(200)         # Withdraw money\n",
        "print(account.get_balance())  # Check final balance\n",
        "\n",
        "# Access the account number\n",
        "print(f\"Account Number: {account.get_account_number()}\")\n"
      ],
      "metadata": {
        "colab": {
          "base_uri": "https://localhost:8080/"
        },
        "id": "HRfhtynycXv0",
        "outputId": "327f813c-4bce-47ff-a6d5-3dba748a4318"
      },
      "execution_count": 8,
      "outputs": [
        {
          "output_type": "stream",
          "name": "stdout",
          "text": [
            "Current balance: $1000.00\n",
            "Deposited $500.00. New balance is $1500.00\n",
            "Withdrew $200.00. New balance is $1300.00\n",
            "Current balance: $1300.00\n",
            "Account Number: 123456789\n"
          ]
        }
      ]
    },
    {
      "cell_type": "markdown",
      "source": [
        "Q11 Write a class that overrides the `__str__` and `__add__` magic methods. What will these methods allow you to do?\n",
        "\n",
        "Answer:"
      ],
      "metadata": {
        "id": "QeqopIPGckIz"
      }
    },
    {
      "cell_type": "code",
      "source": [
        "class MyClass:\n",
        "    def __init__(self, value):\n",
        "        self.value = value\n",
        "\n",
        "    # Overriding the __str__ method\n",
        "    def __str__(self):\n",
        "        return f\"MyClass object with value: {self.value}\"\n",
        "\n",
        "    # Overriding the __add__ method\n",
        "    def __add__(self, other):\n",
        "        if isinstance(other, MyClass):\n",
        "            return MyClass(self.value + other.value)\n",
        "        else:\n",
        "            raise TypeError(\"Both operands must be of type MyClass\")\n",
        "\n",
        "# Creating objects of MyClass\n",
        "obj1 = MyClass(10)\n",
        "obj2 = MyClass(20)\n",
        "\n",
        "# Using __str__ to print the object\n",
        "print(obj1)  # Output: MyClass object with value: 10\n",
        "\n",
        "# Using __add__ to add two MyClass objects\n",
        "obj3 = obj1 + obj2  # Output: MyClass object with value: 30\n",
        "print(obj3)  # Output: MyClass object with value: 30\n"
      ],
      "metadata": {
        "colab": {
          "base_uri": "https://localhost:8080/"
        },
        "id": "obiDKTftc6Qy",
        "outputId": "478e1945-7326-4522-afa8-bebd540221bc"
      },
      "execution_count": 9,
      "outputs": [
        {
          "output_type": "stream",
          "name": "stdout",
          "text": [
            "MyClass object with value: 10\n",
            "MyClass object with value: 30\n"
          ]
        }
      ]
    },
    {
      "cell_type": "markdown",
      "source": [
        "Q12 Create a decorator that measures and prints the execution time of a function.\n",
        "\n",
        "Answer:"
      ],
      "metadata": {
        "id": "AQces80edGLi"
      }
    },
    {
      "cell_type": "code",
      "source": [
        "import time\n",
        "\n",
        "def measure_time(func):\n",
        "    \"\"\"\n",
        "    A decorator that measures and prints the execution time of a function.\n",
        "    \"\"\"\n",
        "    def wrapper(*args, **kwargs):\n",
        "        start_time = time.time()  # Record the start time\n",
        "        result = func(*args, **kwargs)  # Call the original function\n",
        "        end_time = time.time()  # Record the end time\n",
        "        execution_time = end_time - start_time  # Calculate the execution time\n",
        "        print(f\"Execution time of {func.__name__}: {execution_time:.6f} seconds\")\n",
        "        return result\n",
        "    return wrapper\n",
        "\n",
        "# Example usage of the decorator\n",
        "\n",
        "@measure_time\n",
        "def slow_function():\n",
        "    time.sleep(2)  # Simulate a slow function by sleeping for 2 seconds\n",
        "\n",
        "# Call the function\n",
        "slow_function()\n"
      ],
      "metadata": {
        "colab": {
          "base_uri": "https://localhost:8080/"
        },
        "id": "R-4SlQHmdF5r",
        "outputId": "feca9a2d-ac78-4552-dc40-69f1e1f8f4d4"
      },
      "execution_count": 10,
      "outputs": [
        {
          "output_type": "stream",
          "name": "stdout",
          "text": [
            "Execution time of slow_function: 2.003195 seconds\n"
          ]
        }
      ]
    },
    {
      "cell_type": "markdown",
      "source": [
        "Q13 Explain the concept of the Diamond Problem in multiple inheritance. How does Python resolve it?\n",
        "\n",
        "Answer:\n"
      ],
      "metadata": {
        "id": "6-2f1RM8ddrb"
      }
    },
    {
      "cell_type": "code",
      "source": [
        "class A:\n",
        "    def say_hello(self):\n",
        "        print(\"Hello from A\")\n",
        "\n",
        "class B(A):\n",
        "    def say_hello(self):\n",
        "        print(\"Hello from B\")\n",
        "\n",
        "class C(A):\n",
        "    def say_hello(self):\n",
        "        print(\"Hello from C\")\n",
        "\n",
        "class D(B, C):\n",
        "    pass\n",
        "\n",
        "# Creating an instance of D\n",
        "d = D()\n",
        "d.say_hello()  # This will call the method from B\n"
      ],
      "metadata": {
        "colab": {
          "base_uri": "https://localhost:8080/"
        },
        "id": "pXtv_d2udpwR",
        "outputId": "e8e053fc-b917-45a2-ddb5-25910d9bcd02"
      },
      "execution_count": 11,
      "outputs": [
        {
          "output_type": "stream",
          "name": "stdout",
          "text": [
            "Hello from B\n"
          ]
        }
      ]
    },
    {
      "cell_type": "markdown",
      "source": [
        "Q14  Write a class method that keeps track of the number of instances created from a class.\n",
        "\n",
        "Answer:"
      ],
      "metadata": {
        "id": "pWnx0c1wdsvi"
      }
    },
    {
      "cell_type": "code",
      "source": [
        "class MyClass:\n",
        "    # Class variable to track the number of instances\n",
        "    instance_count = 0\n",
        "\n",
        "    def __init__(self):\n",
        "        # Increment the instance count every time a new instance is created\n",
        "        MyClass.instance_count += 1\n",
        "\n",
        "    # Class method to access the instance count\n",
        "    @classmethod\n",
        "    def get_instance_count(cls):\n",
        "        return cls.instance_count\n",
        "\n",
        "# Example usage:\n",
        "\n",
        "# Creating instances of MyClass\n",
        "obj1 = MyClass()\n",
        "obj2 = MyClass()\n",
        "obj3 = MyClass()\n",
        "\n",
        "# Accessing the instance count using the class method\n",
        "print(MyClass.get_instance_count())  # Output: 3\n"
      ],
      "metadata": {
        "colab": {
          "base_uri": "https://localhost:8080/"
        },
        "id": "hz04MzTGdzCi",
        "outputId": "7ca779ba-71ae-4ec7-92a3-56d85fbd78c2"
      },
      "execution_count": 12,
      "outputs": [
        {
          "output_type": "stream",
          "name": "stdout",
          "text": [
            "3\n"
          ]
        }
      ]
    },
    {
      "cell_type": "markdown",
      "source": [
        "Q15  Implement a static method in a class that checks if a given year is a leap year.\n",
        "\n",
        "Answer"
      ],
      "metadata": {
        "id": "V91cTYMXeDGh"
      }
    },
    {
      "cell_type": "code",
      "source": [
        "class YearUtils:\n",
        "    @staticmethod\n",
        "    def is_leap_year(year):\n",
        "        \"\"\"\n",
        "        Check if a given year is a leap year.\n",
        "        \"\"\"\n",
        "        if (year % 4 == 0 and year % 100 != 0) or (year % 400 == 0):\n",
        "            return True\n",
        "        else:\n",
        "            return False\n",
        "\n",
        "# Example usage:\n",
        "\n",
        "# Check if a year is a leap year\n",
        "print(YearUtils.is_leap_year(2024))  # Output: True\n",
        "print(YearUtils.is_leap_year(2023))  # Output: False\n",
        "print(YearUtils.is_leap_year(1900))  # Output: False\n",
        "print(YearUtils.is_leap_year(2000))  # Output: True\n"
      ],
      "metadata": {
        "colab": {
          "base_uri": "https://localhost:8080/"
        },
        "id": "jPVkjN_CeFxZ",
        "outputId": "32402cd2-3ef9-462c-a686-178234fba4f0"
      },
      "execution_count": 13,
      "outputs": [
        {
          "output_type": "stream",
          "name": "stdout",
          "text": [
            "True\n",
            "False\n",
            "False\n",
            "True\n"
          ]
        }
      ]
    }
  ]
}